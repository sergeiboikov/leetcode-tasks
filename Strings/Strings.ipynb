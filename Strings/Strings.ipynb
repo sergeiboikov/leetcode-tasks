{
 "cells": [
  {
   "cell_type": "markdown",
   "metadata": {},
   "source": [
    "# Reverse String\n",
    "\n",
    "Write a function that reverses a string. The input string is given as an array of characters  `s`.\n",
    "\n",
    "You must do this by modifying the input array  [in-place](https://en.wikipedia.org/wiki/In-place_algorithm)  with  `O(1)`  extra memory.\n",
    "\n",
    "**Example 1:**\n",
    "\n",
    "**Input:** s = [\"h\",\"e\",\"l\",\"l\",\"o\"]\n",
    "**Output:** [\"o\",\"l\",\"l\",\"e\",\"h\"]\n",
    "\n",
    "**Example 2:**\n",
    "\n",
    "**Input:** s = [\"H\",\"a\",\"n\",\"n\",\"a\",\"h\"]\n",
    "**Output:** [\"h\",\"a\",\"n\",\"n\",\"a\",\"H\"]\n",
    "\n",
    "**Constraints:**\n",
    "\n",
    "-   `1 <= s.length <= 105`\n",
    "-   `s[i]`  is a  [printable ascii character](https://en.wikipedia.org/wiki/ASCII#Printable_characters)."
   ]
  },
  {
   "cell_type": "code",
   "execution_count": 27,
   "metadata": {},
   "outputs": [
    {
     "data": {
      "text/plain": [
       "['o', 'l', 'l', 'e', 'h']"
      ]
     },
     "execution_count": 27,
     "metadata": {},
     "output_type": "execute_result"
    }
   ],
   "source": [
    "class Solution:\n",
    "    def reverseString(self, s) -> None:\n",
    "        s.reverse()\n",
    "        return s\n",
    "\n",
    "l = [\"h\",\"e\",\"l\",\"l\",\"o\"]\n",
    "sol = Solution()\n",
    "sol.reverseString(l)"
   ]
  },
  {
   "cell_type": "markdown",
   "metadata": {},
   "source": [
    "# Reverse Integer\n",
    "\n",
    "Given a signed 32-bit integer  `x`, return  `x` _with its digits reversed_. If reversing  `x`  causes the value to go outside the signed 32-bit integer range  `[-2^{31}, 2^{31} - 1]`, then return  `0`.\n",
    "\n",
    "**Assume the environment does not allow you to store 64-bit integers (signed or unsigned).**\n",
    "\n",
    "**Example 1:**\n",
    "\n",
    "**Input:** x = 123\n",
    "**Output:** 321\n",
    "\n",
    "**Example 2:**\n",
    "\n",
    "**Input:** x = -123\n",
    "**Output:** -321\n",
    "\n",
    "**Example 3:**\n",
    "\n",
    "**Input:** x = 120\n",
    "**Output:** 21"
   ]
  },
  {
   "cell_type": "code",
   "execution_count": 86,
   "metadata": {},
   "outputs": [
    {
     "data": {
      "text/plain": [
       "421"
      ]
     },
     "execution_count": 86,
     "metadata": {},
     "output_type": "execute_result"
    }
   ],
   "source": [
    "class Solution:\n",
    "    def reverse(self, x: int) -> int:\n",
    "        \n",
    "        factor = 1 if x >= 0 else -1\n",
    "        if abs(x) <= 2**31:\n",
    "            x = str(abs(x))\n",
    "            x_new = int(\"\".join(reversed(x)))\n",
    "            if x_new <= 2**31:\n",
    "                return factor * x_new\n",
    "            else:\n",
    "                return 0\n",
    "        else:\n",
    "            return 0\n",
    "\n",
    "# Execution            \n",
    "x = 124000000\n",
    "sol = Solution()\n",
    "sol.reverse(x)"
   ]
  },
  {
   "cell_type": "markdown",
   "metadata": {},
   "source": [
    "# First Unique Character in a String\n",
    "\n",
    "\n",
    "Given a string  `s`,  _find the first non-repeating character in it and return its index_. If it does not exist, return  `-1`.\n",
    "\n",
    "**Example 1:**\n",
    "\n",
    "**Input:** s = \"leetcode\"\n",
    "**Output:** 0\n",
    "\n",
    "**Example 2:**\n",
    "\n",
    "**Input:** s = \"loveleetcode\"\n",
    "**Output:** 2\n",
    "\n",
    "**Example 3:**\n",
    "\n",
    "**Input:** s = \"aabb\"\n",
    "**Output:** -1\n",
    "\n",
    "**Constraints:**\n",
    "\n",
    "-   `1 <= s.length <= 10^5`\n",
    "-   `s`  consists of only lowercase English letters."
   ]
  },
  {
   "cell_type": "code",
   "execution_count": 105,
   "metadata": {},
   "outputs": [
    {
     "data": {
      "text/plain": [
       "2"
      ]
     },
     "execution_count": 105,
     "metadata": {},
     "output_type": "execute_result"
    }
   ],
   "source": [
    "class Solution:\n",
    "    # My variant\n",
    "    def firstUniqChar(self, s: str) -> int:\n",
    "        for i in range(len(s)):\n",
    "            if s[i] not in s[i+1:] and s[i] not in s[:i]:\n",
    "                return i\n",
    "        return -1    \n",
    "\n",
    "    # Example from Leetcode\n",
    "    def firstUniqChar_example(self, s: str) -> int:  \n",
    "        for i, c in enumerate(s):\n",
    "            if s.count(c) == 1:\n",
    "                return i\n",
    "        return -1 \n",
    "\n",
    "# Execution\n",
    "s = \"loveleetcode\"\n",
    "sol = Solution()\n",
    "sol.firstUniqChar(s)\n",
    "sol.firstUniqChar_example(s)\n",
    "\n"
   ]
  },
  {
   "cell_type": "markdown",
   "metadata": {},
   "source": [
    "\n",
    "# Valid Anagram\n",
    "\n",
    "Given two strings  `s`  and  `t`, return  `true`  _if_  `t`  _is an anagram of_  `s`_, and_  `false`  _otherwise_.\n",
    "\n",
    "An  **Anagram**  is a word or phrase formed by rearranging the letters of a different word or phrase, typically using all the original letters exactly once.\n",
    "\n",
    "**Example 1:**\n",
    "\n",
    "**Input:** s = \"anagram\", t = \"nagaram\"\n",
    "**Output:** true\n",
    "\n",
    "**Example 2:**\n",
    "\n",
    "**Input:** s = \"rat\", t = \"car\"\n",
    "**Output:** false\n",
    "\n",
    "**Constraints:**\n",
    "\n",
    "-   `1 <= s.length, t.length <= 5 * 10^4`\n",
    "-   `s`  and  `t`  consist of lowercase English letters.\n",
    "\n",
    "**Follow up:**  What if the inputs contain Unicode characters? How would you adapt your solution to such a case?"
   ]
  },
  {
   "cell_type": "code",
   "execution_count": 125,
   "metadata": {},
   "outputs": [
    {
     "data": {
      "text/plain": [
       "True"
      ]
     },
     "execution_count": 125,
     "metadata": {},
     "output_type": "execute_result"
    }
   ],
   "source": [
    "import collections\n",
    "class Solution:\n",
    "    # My variant\n",
    "    def isAnagram(self, s: str, t: str) -> bool:\n",
    "        s1 = \"\".join(sorted(s))\n",
    "        t1 = \"\".join(sorted(t))\n",
    "        return s1 == t1\n",
    "\n",
    "    # My variant 2\n",
    "    def isAnagram2(self, s: str, t: str) -> bool:\n",
    "        s_dict = {el: s.count(el) for el in s}\n",
    "        t_dict = {el: s.count(el) for el in s}\n",
    "        return s_dict == t_dict\n",
    "\n",
    "    # Example from leetcode\n",
    "    def isAnagram_example(self, s: str, t: str) -> bool:\n",
    "        s_dict = collections.Counter(s)\n",
    "        t_dict = collections.Counter(t)\n",
    "        return s_dict == t_dict\n",
    "\n",
    "s = \"anagram\"\n",
    "t = \"margana\"\n",
    "sol = Solution()\n",
    "sol.isAnagram(s, t)\n",
    "sol.isAnagram2(s, t)\n",
    "sol.isAnagram_example(s, t)"
   ]
  },
  {
   "cell_type": "markdown",
   "metadata": {},
   "source": [
    "# Valid Palindrome\n",
    "\n",
    "\n",
    "A phrase is a  **palindrome**  if, after converting all uppercase letters into lowercase letters and removing all non-alphanumeric characters, it reads the same forward and backward. Alphanumeric characters include letters and numbers.\n",
    "\n",
    "Given a string  `s`, return  `true` _if it is a  **palindrome**, or_ `false` _otherwise_.\n",
    "\n",
    "**Example 1:**\n",
    "\n",
    "**Input:** s = \"A man, a plan, a canal: Panama\"\n",
    "**Output:** true\n",
    "**Explanation:** \"amanaplanacanalpanama\" is a palindrome.\n",
    "\n",
    "**Example 2:**\n",
    "\n",
    "**Input:** s = \"race a car\"\n",
    "**Output:** false\n",
    "**Explanation:** \"raceacar\" is not a palindrome.\n",
    "\n",
    "**Example 3:**\n",
    "\n",
    "**Input:** s = \" \"\n",
    "**Output:** true\n",
    "**Explanation:** s is an empty string \"\" after removing non-alphanumeric characters.\n",
    "Since an empty string reads the same forward and backward, it is a palindrome.\n",
    "\n",
    "**Constraints:**\n",
    "\n",
    "-   `1 <= s.length <= 2 * 10^5`\n",
    "-   `s`  consists only of printable ASCII characters."
   ]
  },
  {
   "cell_type": "code",
   "execution_count": 147,
   "metadata": {},
   "outputs": [
    {
     "data": {
      "text/plain": [
       "True"
      ]
     },
     "execution_count": 147,
     "metadata": {},
     "output_type": "execute_result"
    }
   ],
   "source": [
    "class Solution:\n",
    "\n",
    "    # My variant\n",
    "    def isPalindrome(self, s: str) -> bool:\n",
    "        s_cleaned = \"\".join(el.lower() for el in s if el.isalnum()).replace(\" \", \"\")\n",
    "        s_cleaned_reversed = \"\".join(reversed(s_cleaned))\n",
    "        return s_cleaned == s_cleaned_reversed\n",
    "\n",
    "    # Example from Leetcode\n",
    "    def isPalindrome_example(self, s: str) -> bool:\n",
    "        s=s.lower()\n",
    "        tmp = \"\"\n",
    "        for i in s:\n",
    "            if (i>='a' and i<='z') or ( i >= '0' and i<= '9'): tmp+=i\n",
    "        return tmp == tmp[::-1]\n",
    "\n",
    "\n",
    "s = \"A man, a plan, a canal: Panama\"\n",
    "sol = Solution()\n",
    "sol.isPalindrome(s)\n",
    "sol.isPalindrome_example(s)"
   ]
  }
 ],
 "metadata": {
  "interpreter": {
   "hash": "bd4c67ef142469da7dc4d338a32ac40116904d26076b8e6aa587d80720bc6a2b"
  },
  "kernelspec": {
   "display_name": "Python 3.9.12 64-bit",
   "language": "python",
   "name": "python3"
  },
  "language_info": {
   "codemirror_mode": {
    "name": "ipython",
    "version": 3
   },
   "file_extension": ".py",
   "mimetype": "text/x-python",
   "name": "python",
   "nbconvert_exporter": "python",
   "pygments_lexer": "ipython3",
   "version": "3.9.12"
  },
  "orig_nbformat": 4
 },
 "nbformat": 4,
 "nbformat_minor": 2
}
